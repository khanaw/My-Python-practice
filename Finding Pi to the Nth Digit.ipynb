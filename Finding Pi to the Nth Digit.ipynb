{
 "cells": [
  {
   "cell_type": "markdown",
   "metadata": {},
   "source": [
    "# Finding Pi to the Nth Digit.\n",
    "#### Here a user enters a number and Pi is generated to that decimal places. Limit is set to"
   ]
  },
  {
   "cell_type": "markdown",
   "metadata": {},
   "source": [
    "Creating Generator Function calc_pi"
   ]
  },
  {
   "cell_type": "code",
   "execution_count": 19,
   "metadata": {},
   "outputs": [],
   "source": [
    "def calc_pi(limitnumber):\n",
    "    \"\"\" \n",
    "    Print out decimal places of PI until it reaches the limiting number\n",
    "    \"\"\"\n",
    "    \n",
    "    a, b, c, d, e, f=1, 0, 1, 1, 3, 3\n",
    "    \n",
    "    counter=0\n",
    "    decimal_place=limitnumber\n",
    "    \n",
    "    while counter != decimal_place + 1:\n",
    "        if 4 * a + b - c < e * c:\n",
    "                yield e\n",
    "                if counter == 0:\n",
    "                        yield '.'\n",
    "                            \n",
    "                if decimal_place == counter:\n",
    "                        print('')\n",
    "                        break\n",
    "                        \n",
    "                counter += 1\n",
    "                eb = 10 * (b - e * c)\n",
    "                e = ((10 * (3 * a + b)) // c) - 10 * e\n",
    "                a *= 10\n",
    "                b = eb\n",
    "        else:\n",
    "                eb = (2 * a + b) * f\n",
    "                ee = (a * (7 * d) + 2 + (b * f)) // (c * f)\n",
    "                a *= d\n",
    "                c *= f\n",
    "                f += 2\n",
    "                d += 1\n",
    "                e = ee\n",
    "                b = eb"
   ]
  },
  {
   "cell_type": "markdown",
   "metadata": {},
   "source": [
    "Creating a wrapper function that will uses calc_pi to generate our decimal places: display_pi_digits"
   ]
  },
  {
   "cell_type": "code",
   "execution_count": 53,
   "metadata": {},
   "outputs": [],
   "source": [
    "def display_pi_digits():\n",
    "    pi_digits=calc_pi(int(input('Enter the number of decimals of pi you want to calculate, max is 40:')))\n",
    "    \n",
    "    g=0\n",
    "    \n",
    "    while g<50:\n",
    "        for dig in pi_digits:\n",
    "            print(dig, end='')\n",
    "            g+=1\n",
    "            if g ==50:\n",
    "                break"
   ]
  },
  {
   "cell_type": "code",
   "execution_count": 54,
   "metadata": {},
   "outputs": [
    {
     "name": "stdout",
     "output_type": "stream",
     "text": [
      "Enter the number of decimals of pi you want to calculate, max is 40:50\n",
      "3.141592653589793238462643383279502884197169399375"
     ]
    }
   ],
   "source": [
    "display_pi_digits()"
   ]
  },
  {
   "cell_type": "code",
   "execution_count": 51,
   "metadata": {
    "collapsed": true
   },
   "outputs": [],
   "source": []
  },
  {
   "cell_type": "code",
   "execution_count": 52,
   "metadata": {},
   "outputs": [
    {
     "data": {
      "text/plain": [
       "48"
      ]
     },
     "execution_count": 52,
     "metadata": {},
     "output_type": "execute_result"
    }
   ],
   "source": []
  },
  {
   "cell_type": "code",
   "execution_count": null,
   "metadata": {
    "collapsed": true
   },
   "outputs": [],
   "source": []
  }
 ],
 "metadata": {
  "kernelspec": {
   "display_name": "Python 3",
   "language": "python",
   "name": "python3"
  },
  "language_info": {
   "codemirror_mode": {
    "name": "ipython",
    "version": 3
   },
   "file_extension": ".py",
   "mimetype": "text/x-python",
   "name": "python",
   "nbconvert_exporter": "python",
   "pygments_lexer": "ipython3",
   "version": "3.6.3"
  }
 },
 "nbformat": 4,
 "nbformat_minor": 2
}
