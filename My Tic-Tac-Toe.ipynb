{
 "cells": [
  {
   "cell_type": "code",
   "execution_count": 17,
   "metadata": {},
   "outputs": [],
   "source": [
    "import os\n",
    "def clearoutput():\n",
    "    os.system( 'cls' )"
   ]
  },
  {
   "cell_type": "code",
   "execution_count": 23,
   "metadata": {},
   "outputs": [],
   "source": [
    "def displayboard(board):\n",
    "    \n",
    "    clearoutput()\n",
    "    print(' ' + board[7] + ' | ' + board[8] + ' | ' + board[9])\n",
    "    print('-----------')\n",
    "    print(' ' + board[4] + ' | ' + board[5] + ' | ' + board[6])\n",
    "    print('-----------')\n",
    "    print(' ' + board[1] + ' | ' + board[2] + ' | ' + board[3])\n",
    "\n"
   ]
  },
  {
   "cell_type": "code",
   "execution_count": 24,
   "metadata": {
    "collapsed": true
   },
   "outputs": [],
   "source": [
    "def playerin():\n",
    "    \n",
    "    marker=''\n",
    "    while not (marker=='X' or marker=='O'):\n",
    "        marker=input('Player 1: Choose X or O').upper()\n",
    "    if marker == 'X':\n",
    "        return('X','O')\n",
    "    else:\n",
    "        return('O','X')\n",
    "    "
   ]
  },
  {
   "cell_type": "code",
   "execution_count": 25,
   "metadata": {
    "collapsed": true
   },
   "outputs": [],
   "source": [
    "def markerplace(board, marker, position):\n",
    "    board[position] =marker"
   ]
  },
  {
   "cell_type": "code",
   "execution_count": 26,
   "metadata": {
    "collapsed": true
   },
   "outputs": [],
   "source": [
    "def checkwin(board,mark):\n",
    "     return ((board[9] == mark and board[5] == mark and board[1] == mark) or #diag1\n",
    "    (board[7] == mark and board[5] == mark and board[3] == mark) or #diag2\n",
    "    (board[4] == mark and board[5] == mark and board[6] == mark) or #mid1\n",
    "    (board[1] == mark and board[2] == mark and board[3] == mark) or #bot\n",
    "    (board[7] == mark and board[4] == mark and board[1] == mark) or #downleft\n",
    "    (board[8] == mark and board[5] == mark and board[2] == mark) or #mid3\n",
    "    (board[9] == mark and board[6] == mark and board[3] == mark) or #downright\n",
    "    (board[7] == mark and board[8] == mark and board[9] == mark)) #top\n",
    "    "
   ]
  },
  {
   "cell_type": "code",
   "execution_count": 27,
   "metadata": {
    "collapsed": true
   },
   "outputs": [],
   "source": [
    "import random\n",
    "def choosefirst():\n",
    "    if random.randint(0,1) ==0:\n",
    "        return 'Player 1'\n",
    "    else:\n",
    "        return 'Player 2'"
   ]
  },
  {
   "cell_type": "code",
   "execution_count": 28,
   "metadata": {
    "collapsed": true
   },
   "outputs": [],
   "source": [
    "def freespace(board, position):\n",
    "    return board[position] == ' '"
   ]
  },
  {
   "cell_type": "code",
   "execution_count": 29,
   "metadata": {
    "collapsed": true
   },
   "outputs": [],
   "source": [
    "def fullboard(board):\n",
    "    for x in range(1,10):\n",
    "        if freespace(board, x):\n",
    "            return False\n",
    "    return True"
   ]
  },
  {
   "cell_type": "code",
   "execution_count": 30,
   "metadata": {
    "collapsed": true
   },
   "outputs": [],
   "source": [
    "def chooseplace(board):\n",
    "    position=' '\n",
    "    while position not in '1 2 3 4 5 6 7 8 9'.split() or not freespace(board, int(position)):\n",
    "        \n",
    "        position=input('Choose a position 1-9:')\n",
    "    return int(position)"
   ]
  },
  {
   "cell_type": "code",
   "execution_count": 33,
   "metadata": {
    "collapsed": true
   },
   "outputs": [],
   "source": [
    "\n",
    "def replay():\n",
    "    \n",
    "    ans=input('Do you want to play again? Enter Yes or No: ').lower()\n",
    "    if ans == 'Yes':\n",
    "        return True\n",
    "    else:\n",
    "        return False"
   ]
  },
  {
   "cell_type": "code",
   "execution_count": 34,
   "metadata": {},
   "outputs": [
    {
     "name": "stdout",
     "output_type": "stream",
     "text": [
      "Welcome to Tic-Tac-Toe!\n",
      "Player 1: Choose X or OX\n",
      "Player 1 will go first.\n",
      "   |   |  \n",
      "-----------\n",
      "   |   |  \n",
      "-----------\n",
      "   |   |  \n",
      "Choose a position 1-9:1\n",
      "   |   |  \n",
      "-----------\n",
      "   |   |  \n",
      "-----------\n",
      " X |   |  \n",
      "Choose a position 1-9:2\n",
      "   |   |  \n",
      "-----------\n",
      "   |   |  \n",
      "-----------\n",
      " X | O |  \n",
      "Choose a position 1-9:4\n",
      "   |   |  \n",
      "-----------\n",
      " X |   |  \n",
      "-----------\n",
      " X | O |  \n",
      "Choose a position 1-9:5\n",
      "   |   |  \n",
      "-----------\n",
      " X | O |  \n",
      "-----------\n",
      " X | O |  \n",
      "Choose a position 1-9:7\n",
      " X |   |  \n",
      "-----------\n",
      " X | O |  \n",
      "-----------\n",
      " X | O |  \n",
      "Congratulations Player 1! You have won!\n",
      "Do you want to play again? Enter Yes or No: sf\n"
     ]
    }
   ],
   "source": [
    "print('Welcome to Tic-Tac-Toe!')\n",
    "\n",
    "while True:\n",
    "    theboard = [' '] * 10\n",
    "    player1_marker, player2_marker = playerin()\n",
    "    turn = choosefirst()\n",
    "    print(turn + ' will go first.')\n",
    "    game_on = True\n",
    "    \n",
    "    while game_on:\n",
    "        if turn == 'Player 1':\n",
    "            \n",
    "            displayboard(theboard)\n",
    "            position = chooseplace(theboard)\n",
    "            markerplace(theboard, player1_marker, position)\n",
    "\n",
    "            if checkwin(theboard, player1_marker):\n",
    "                displayboard(theboard)\n",
    "                print('Congratulations Player 1! You have won!')\n",
    "                game_on = False\n",
    "            else:\n",
    "                if fullboard(theboard):\n",
    "                    displayboard(theboard)\n",
    "                    print('The game is a tie!')\n",
    "                    break\n",
    "                else:\n",
    "                    turn = 'Player 2'\n",
    "\n",
    "        else:\n",
    "          \n",
    "            displayboard(theboard)\n",
    "            position = chooseplace(theboard)\n",
    "            markerplace(theboard, player2_marker, position)\n",
    "\n",
    "            if checkwin(theboard, player2_marker):\n",
    "                displayboard(theboard)\n",
    "                print('Congratulations Player 2! You have won!')\n",
    "                game_on = False\n",
    "            else:\n",
    "                if fullboard(theboard):\n",
    "                    displayboard(theboard)\n",
    "                    print('The game is a tie!')\n",
    "                    break\n",
    "                else:\n",
    "                    turn = 'Player 1'\n",
    "\n",
    "    if not replay():\n",
    "        break"
   ]
  },
  {
   "cell_type": "code",
   "execution_count": null,
   "metadata": {
    "collapsed": true
   },
   "outputs": [],
   "source": []
  }
 ],
 "metadata": {
  "kernelspec": {
   "display_name": "Python 3",
   "language": "python",
   "name": "python3"
  },
  "language_info": {
   "codemirror_mode": {
    "name": "ipython",
    "version": 3
   },
   "file_extension": ".py",
   "mimetype": "text/x-python",
   "name": "python",
   "nbconvert_exporter": "python",
   "pygments_lexer": "ipython3",
   "version": "3.6.3"
  }
 },
 "nbformat": 4,
 "nbformat_minor": 2
}
