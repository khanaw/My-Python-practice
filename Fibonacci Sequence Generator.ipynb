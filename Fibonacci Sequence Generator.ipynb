{
 "cells": [
  {
   "cell_type": "markdown",
   "metadata": {},
   "source": [
    "# Fibonacci Sequence Generator\n",
    "\n",
    "### Enter a number and generate its Fibonacci Number  to that number\n",
    " The limit is set to 250. You can increase the limit but may get errors. Use recursion to obtain better results at higher numbers. If you wanted to find 1500, it would be better to run the number in increments of 250 to 1500\n",
    "\n",
    "A quick note: if you want to see the 22nd term in the fibonacci it will be the fibonacci number for 21. Thus if you wanted to see the fibonaci number for 22, which is term 23, you would have to enter 23\n",
    "#### Info on Fibonacci can be found here https://en.wikipedia.org/wiki/Fibonacci_number"
   ]
  },
  {
   "cell_type": "code",
   "execution_count": 8,
   "metadata": {},
   "outputs": [],
   "source": [
    "def fibonacci(num):\n",
    "    \"\"\" \n",
    "    Return the next and current terms in a fibonnacie sequence\n",
    "    \"\"\"\n",
    "    \n",
    "    #if the number is 1 return terms 1,0\n",
    "    if num == 1:\n",
    "        return[1,0]\n",
    "    #case for above 1\n",
    "    else:\n",
    "        term=fibonacci(num -1)\n",
    "        term=[term[0] +term[1],term[0]]\n",
    "        return term"
   ]
  },
  {
   "cell_type": "code",
   "execution_count": 9,
   "metadata": {
    "collapsed": true
   },
   "outputs": [],
   "source": [
    "def valid_integer():\n",
    "    \"\"\"\n",
    "    Obtain a positive integer less than 200\n",
    "    \"\"\"\n",
    "    \n",
    "    while True:\n",
    "        num=int(input('Enter the term in the Fibonacci Sequence you want to see: '))\n",
    "        try:\n",
    "            if num>=250:\n",
    "                print('Enter a number smaller than 250')\n",
    "            elif num>0:\n",
    "                return num\n",
    "                break\n",
    "            else:\n",
    "                print('Enter a positive number')\n",
    "        except:\n",
    "            print('Enter an integer')"
   ]
  },
  {
   "cell_type": "code",
   "execution_count": 10,
   "metadata": {
    "collapsed": true
   },
   "outputs": [],
   "source": [
    "def get_fibonacci():\n",
    "    num=valid_integer()\n",
    "    print(fibonacci(num)[1])"
   ]
  },
  {
   "cell_type": "code",
   "execution_count": null,
   "metadata": {
    "collapsed": true
   },
   "outputs": [],
   "source": [
    "## call the get_fibonacci() function to obtain the term you want to see\n",
    "get_fibonacci()"
   ]
  }
 ],
 "metadata": {
  "kernelspec": {
   "display_name": "Python 3",
   "language": "python",
   "name": "python3"
  },
  "language_info": {
   "codemirror_mode": {
    "name": "ipython",
    "version": 3
   },
   "file_extension": ".py",
   "mimetype": "text/x-python",
   "name": "python",
   "nbconvert_exporter": "python",
   "pygments_lexer": "ipython3",
   "version": "3.6.3"
  }
 },
 "nbformat": 4,
 "nbformat_minor": 2
}
